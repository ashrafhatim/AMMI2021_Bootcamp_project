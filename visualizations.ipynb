{
  "nbformat": 4,
  "nbformat_minor": 0,
  "metadata": {
    "colab": {
      "name": "In_Class_project.ipynb",
      "provenance": [],
      "collapsed_sections": []
    },
    "kernelspec": {
      "name": "python3",
      "display_name": "Python 3"
    }
  },
  "cells": [
    {
      "cell_type": "code",
      "metadata": {
        "id": "vtFJNWnwZVXO",
        "colab": {
          "base_uri": "https://localhost:8080/"
        },
        "outputId": "6b194860-dd35-4f3f-de47-ce4d8a2173f4"
      },
      "source": [
        "from google.colab import drive\n",
        "drive.mount('/content/drive')\n"
      ],
      "execution_count": null,
      "outputs": [
        {
          "output_type": "stream",
          "text": [
            "Mounted at /content/drive\n"
          ],
          "name": "stdout"
        }
      ]
    },
    {
      "cell_type": "code",
      "metadata": {
        "id": "eXDqnwxbZoGc"
      },
      "source": [
        "import numpy as np\n",
        "import pandas as pd\n",
        "import matplotlib.pyplot as plt"
      ],
      "execution_count": null,
      "outputs": []
    },
    {
      "cell_type": "code",
      "metadata": {
        "id": "gt8hAyQ9Z_KU",
        "colab": {
          "base_uri": "https://localhost:8080/",
          "height": 221
        },
        "outputId": "1f96f670-a9c5-4b32-c593-a9100f163799"
      },
      "source": [
        "train_df = pd.read_csv('/content/drive/MyDrive/train_data.txt', header = None)\n",
        "train_df.tail()"
      ],
      "execution_count": null,
      "outputs": [
        {
          "output_type": "execute_result",
          "data": {
            "text/html": [
              "<div>\n",
              "<style scoped>\n",
              "    .dataframe tbody tr th:only-of-type {\n",
              "        vertical-align: middle;\n",
              "    }\n",
              "\n",
              "    .dataframe tbody tr th {\n",
              "        vertical-align: top;\n",
              "    }\n",
              "\n",
              "    .dataframe thead th {\n",
              "        text-align: right;\n",
              "    }\n",
              "</style>\n",
              "<table border=\"1\" class=\"dataframe\">\n",
              "  <thead>\n",
              "    <tr style=\"text-align: right;\">\n",
              "      <th></th>\n",
              "      <th>0</th>\n",
              "      <th>1</th>\n",
              "      <th>2</th>\n",
              "      <th>3</th>\n",
              "      <th>4</th>\n",
              "      <th>5</th>\n",
              "      <th>6</th>\n",
              "      <th>7</th>\n",
              "      <th>8</th>\n",
              "      <th>9</th>\n",
              "      <th>10</th>\n",
              "      <th>11</th>\n",
              "      <th>12</th>\n",
              "    </tr>\n",
              "  </thead>\n",
              "  <tbody>\n",
              "    <tr>\n",
              "      <th>333</th>\n",
              "      <td>333</td>\n",
              "      <td>0.202045</td>\n",
              "      <td>0.171458</td>\n",
              "      <td>0.190657</td>\n",
              "      <td>0.104649</td>\n",
              "      <td>0.250030</td>\n",
              "      <td>0.077296</td>\n",
              "      <td>0.002281</td>\n",
              "      <td>0.014617</td>\n",
              "      <td>0.323545</td>\n",
              "      <td>0.228517</td>\n",
              "      <td>0.035936</td>\n",
              "      <td>2</td>\n",
              "    </tr>\n",
              "    <tr>\n",
              "      <th>334</th>\n",
              "      <td>334</td>\n",
              "      <td>0.251739</td>\n",
              "      <td>0.314846</td>\n",
              "      <td>0.235575</td>\n",
              "      <td>0.136234</td>\n",
              "      <td>0.250882</td>\n",
              "      <td>0.069444</td>\n",
              "      <td>0.018172</td>\n",
              "      <td>0.042420</td>\n",
              "      <td>0.198612</td>\n",
              "      <td>0.199874</td>\n",
              "      <td>0.024912</td>\n",
              "      <td>2</td>\n",
              "    </tr>\n",
              "    <tr>\n",
              "      <th>335</th>\n",
              "      <td>335</td>\n",
              "      <td>0.477022</td>\n",
              "      <td>0.381806</td>\n",
              "      <td>0.469974</td>\n",
              "      <td>0.329060</td>\n",
              "      <td>0.600925</td>\n",
              "      <td>0.264462</td>\n",
              "      <td>0.353327</td>\n",
              "      <td>0.493738</td>\n",
              "      <td>0.298986</td>\n",
              "      <td>0.226411</td>\n",
              "      <td>0.254125</td>\n",
              "      <td>1</td>\n",
              "    </tr>\n",
              "    <tr>\n",
              "      <th>336</th>\n",
              "      <td>336</td>\n",
              "      <td>0.284396</td>\n",
              "      <td>0.152858</td>\n",
              "      <td>0.278419</td>\n",
              "      <td>0.157419</td>\n",
              "      <td>0.390680</td>\n",
              "      <td>0.246212</td>\n",
              "      <td>0.087582</td>\n",
              "      <td>0.104274</td>\n",
              "      <td>0.258943</td>\n",
              "      <td>0.472199</td>\n",
              "      <td>0.023969</td>\n",
              "      <td>2</td>\n",
              "    </tr>\n",
              "    <tr>\n",
              "      <th>337</th>\n",
              "      <td>337</td>\n",
              "      <td>0.557954</td>\n",
              "      <td>0.396348</td>\n",
              "      <td>0.546680</td>\n",
              "      <td>0.402675</td>\n",
              "      <td>0.348583</td>\n",
              "      <td>0.370591</td>\n",
              "      <td>0.248360</td>\n",
              "      <td>0.302684</td>\n",
              "      <td>0.419648</td>\n",
              "      <td>0.228939</td>\n",
              "      <td>0.191065</td>\n",
              "      <td>1</td>\n",
              "    </tr>\n",
              "  </tbody>\n",
              "</table>\n",
              "</div>"
            ],
            "text/plain": [
              "      0         1         2         3   ...        9         10        11  12\n",
              "333  333  0.202045  0.171458  0.190657  ...  0.323545  0.228517  0.035936   2\n",
              "334  334  0.251739  0.314846  0.235575  ...  0.198612  0.199874  0.024912   2\n",
              "335  335  0.477022  0.381806  0.469974  ...  0.298986  0.226411  0.254125   1\n",
              "336  336  0.284396  0.152858  0.278419  ...  0.258943  0.472199  0.023969   2\n",
              "337  337  0.557954  0.396348  0.546680  ...  0.419648  0.228939  0.191065   1\n",
              "\n",
              "[5 rows x 13 columns]"
            ]
          },
          "metadata": {
            "tags": []
          },
          "execution_count": 84
        }
      ]
    },
    {
      "cell_type": "code",
      "metadata": {
        "id": "TJ4Ni_ugbxHa",
        "colab": {
          "base_uri": "https://localhost:8080/",
          "height": 221
        },
        "outputId": "3ba7e8a8-1e11-4183-c954-0b502009f5e4"
      },
      "source": [
        "train_df.columns = ['ID', 'f1', 'f2', 'f3', 'f4','f5', 'f6', 'f7', 'f8', 'f9', 'f10', 'f11', 'class']\n",
        "train_df.tail()"
      ],
      "execution_count": null,
      "outputs": [
        {
          "output_type": "execute_result",
          "data": {
            "text/html": [
              "<div>\n",
              "<style scoped>\n",
              "    .dataframe tbody tr th:only-of-type {\n",
              "        vertical-align: middle;\n",
              "    }\n",
              "\n",
              "    .dataframe tbody tr th {\n",
              "        vertical-align: top;\n",
              "    }\n",
              "\n",
              "    .dataframe thead th {\n",
              "        text-align: right;\n",
              "    }\n",
              "</style>\n",
              "<table border=\"1\" class=\"dataframe\">\n",
              "  <thead>\n",
              "    <tr style=\"text-align: right;\">\n",
              "      <th></th>\n",
              "      <th>ID</th>\n",
              "      <th>f1</th>\n",
              "      <th>f2</th>\n",
              "      <th>f3</th>\n",
              "      <th>f4</th>\n",
              "      <th>f5</th>\n",
              "      <th>f6</th>\n",
              "      <th>f7</th>\n",
              "      <th>f8</th>\n",
              "      <th>f9</th>\n",
              "      <th>f10</th>\n",
              "      <th>f11</th>\n",
              "      <th>class</th>\n",
              "    </tr>\n",
              "  </thead>\n",
              "  <tbody>\n",
              "    <tr>\n",
              "      <th>333</th>\n",
              "      <td>333</td>\n",
              "      <td>0.202045</td>\n",
              "      <td>0.171458</td>\n",
              "      <td>0.190657</td>\n",
              "      <td>0.104649</td>\n",
              "      <td>0.250030</td>\n",
              "      <td>0.077296</td>\n",
              "      <td>0.002281</td>\n",
              "      <td>0.014617</td>\n",
              "      <td>0.323545</td>\n",
              "      <td>0.228517</td>\n",
              "      <td>0.035936</td>\n",
              "      <td>2</td>\n",
              "    </tr>\n",
              "    <tr>\n",
              "      <th>334</th>\n",
              "      <td>334</td>\n",
              "      <td>0.251739</td>\n",
              "      <td>0.314846</td>\n",
              "      <td>0.235575</td>\n",
              "      <td>0.136234</td>\n",
              "      <td>0.250882</td>\n",
              "      <td>0.069444</td>\n",
              "      <td>0.018172</td>\n",
              "      <td>0.042420</td>\n",
              "      <td>0.198612</td>\n",
              "      <td>0.199874</td>\n",
              "      <td>0.024912</td>\n",
              "      <td>2</td>\n",
              "    </tr>\n",
              "    <tr>\n",
              "      <th>335</th>\n",
              "      <td>335</td>\n",
              "      <td>0.477022</td>\n",
              "      <td>0.381806</td>\n",
              "      <td>0.469974</td>\n",
              "      <td>0.329060</td>\n",
              "      <td>0.600925</td>\n",
              "      <td>0.264462</td>\n",
              "      <td>0.353327</td>\n",
              "      <td>0.493738</td>\n",
              "      <td>0.298986</td>\n",
              "      <td>0.226411</td>\n",
              "      <td>0.254125</td>\n",
              "      <td>1</td>\n",
              "    </tr>\n",
              "    <tr>\n",
              "      <th>336</th>\n",
              "      <td>336</td>\n",
              "      <td>0.284396</td>\n",
              "      <td>0.152858</td>\n",
              "      <td>0.278419</td>\n",
              "      <td>0.157419</td>\n",
              "      <td>0.390680</td>\n",
              "      <td>0.246212</td>\n",
              "      <td>0.087582</td>\n",
              "      <td>0.104274</td>\n",
              "      <td>0.258943</td>\n",
              "      <td>0.472199</td>\n",
              "      <td>0.023969</td>\n",
              "      <td>2</td>\n",
              "    </tr>\n",
              "    <tr>\n",
              "      <th>337</th>\n",
              "      <td>337</td>\n",
              "      <td>0.557954</td>\n",
              "      <td>0.396348</td>\n",
              "      <td>0.546680</td>\n",
              "      <td>0.402675</td>\n",
              "      <td>0.348583</td>\n",
              "      <td>0.370591</td>\n",
              "      <td>0.248360</td>\n",
              "      <td>0.302684</td>\n",
              "      <td>0.419648</td>\n",
              "      <td>0.228939</td>\n",
              "      <td>0.191065</td>\n",
              "      <td>1</td>\n",
              "    </tr>\n",
              "  </tbody>\n",
              "</table>\n",
              "</div>"
            ],
            "text/plain": [
              "      ID        f1        f2        f3  ...        f9       f10       f11  class\n",
              "333  333  0.202045  0.171458  0.190657  ...  0.323545  0.228517  0.035936      2\n",
              "334  334  0.251739  0.314846  0.235575  ...  0.198612  0.199874  0.024912      2\n",
              "335  335  0.477022  0.381806  0.469974  ...  0.298986  0.226411  0.254125      1\n",
              "336  336  0.284396  0.152858  0.278419  ...  0.258943  0.472199  0.023969      2\n",
              "337  337  0.557954  0.396348  0.546680  ...  0.419648  0.228939  0.191065      1\n",
              "\n",
              "[5 rows x 13 columns]"
            ]
          },
          "metadata": {
            "tags": []
          },
          "execution_count": 144
        }
      ]
    },
    {
      "cell_type": "code",
      "metadata": {
        "colab": {
          "base_uri": "https://localhost:8080/"
        },
        "id": "cyVnNryWaSC8",
        "outputId": "f15dbdc8-e39f-4fdd-e54d-ad8bb925e8ab"
      },
      "source": [
        "train_df.shape"
      ],
      "execution_count": null,
      "outputs": [
        {
          "output_type": "execute_result",
          "data": {
            "text/plain": [
              "(338, 13)"
            ]
          },
          "metadata": {
            "tags": []
          },
          "execution_count": 145
        }
      ]
    },
    {
      "cell_type": "code",
      "metadata": {
        "colab": {
          "base_uri": "https://localhost:8080/",
          "height": 221
        },
        "id": "WXrJ4u7MaJHt",
        "outputId": "e422f755-5f5b-40c2-9759-759ac7c5b80c"
      },
      "source": [
        "test_df = pd.read_csv('/content/drive/MyDrive/test_data.txt', header=None)\n",
        "test_df.columns = ['ID', 'f1', 'f2', 'f3', 'f4','f5', 'f6', 'f7', 'f8', 'f9', 'f10', 'f11', 'class']\n",
        "test_df.head()"
      ],
      "execution_count": null,
      "outputs": [
        {
          "output_type": "execute_result",
          "data": {
            "text/html": [
              "<div>\n",
              "<style scoped>\n",
              "    .dataframe tbody tr th:only-of-type {\n",
              "        vertical-align: middle;\n",
              "    }\n",
              "\n",
              "    .dataframe tbody tr th {\n",
              "        vertical-align: top;\n",
              "    }\n",
              "\n",
              "    .dataframe thead th {\n",
              "        text-align: right;\n",
              "    }\n",
              "</style>\n",
              "<table border=\"1\" class=\"dataframe\">\n",
              "  <thead>\n",
              "    <tr style=\"text-align: right;\">\n",
              "      <th></th>\n",
              "      <th>ID</th>\n",
              "      <th>f1</th>\n",
              "      <th>f2</th>\n",
              "      <th>f3</th>\n",
              "      <th>f4</th>\n",
              "      <th>f5</th>\n",
              "      <th>f6</th>\n",
              "      <th>f7</th>\n",
              "      <th>f8</th>\n",
              "      <th>f9</th>\n",
              "      <th>f10</th>\n",
              "      <th>f11</th>\n",
              "      <th>class</th>\n",
              "    </tr>\n",
              "  </thead>\n",
              "  <tbody>\n",
              "    <tr>\n",
              "      <th>0</th>\n",
              "      <td>0</td>\n",
              "      <td>0.119570</td>\n",
              "      <td>0.334175</td>\n",
              "      <td>0.118650</td>\n",
              "      <td>0.060242</td>\n",
              "      <td>0.433962</td>\n",
              "      <td>0.186667</td>\n",
              "      <td>0.069078</td>\n",
              "      <td>0.092786</td>\n",
              "      <td>0.561570</td>\n",
              "      <td>0.282460</td>\n",
              "      <td>0.061753</td>\n",
              "      <td>2</td>\n",
              "    </tr>\n",
              "    <tr>\n",
              "      <th>1</th>\n",
              "      <td>1</td>\n",
              "      <td>0.801815</td>\n",
              "      <td>0.674407</td>\n",
              "      <td>0.771190</td>\n",
              "      <td>0.676478</td>\n",
              "      <td>0.489934</td>\n",
              "      <td>0.406387</td>\n",
              "      <td>0.634938</td>\n",
              "      <td>0.737062</td>\n",
              "      <td>0.498647</td>\n",
              "      <td>0.099978</td>\n",
              "      <td>0.368507</td>\n",
              "      <td>1</td>\n",
              "    </tr>\n",
              "    <tr>\n",
              "      <th>2</th>\n",
              "      <td>2</td>\n",
              "      <td>0.341072</td>\n",
              "      <td>0.284200</td>\n",
              "      <td>0.332638</td>\n",
              "      <td>0.202008</td>\n",
              "      <td>0.405164</td>\n",
              "      <td>0.348902</td>\n",
              "      <td>0.220275</td>\n",
              "      <td>0.220753</td>\n",
              "      <td>0.576455</td>\n",
              "      <td>0.300376</td>\n",
              "      <td>0.097557</td>\n",
              "      <td>2</td>\n",
              "    </tr>\n",
              "    <tr>\n",
              "      <th>3</th>\n",
              "      <td>3</td>\n",
              "      <td>0.097065</td>\n",
              "      <td>0.299344</td>\n",
              "      <td>0.098719</td>\n",
              "      <td>0.047241</td>\n",
              "      <td>0.290512</td>\n",
              "      <td>0.262595</td>\n",
              "      <td>0.231692</td>\n",
              "      <td>0.119812</td>\n",
              "      <td>0.660352</td>\n",
              "      <td>0.458084</td>\n",
              "      <td>0.029932</td>\n",
              "      <td>2</td>\n",
              "    </tr>\n",
              "    <tr>\n",
              "      <th>4</th>\n",
              "      <td>4</td>\n",
              "      <td>0.170764</td>\n",
              "      <td>0.204442</td>\n",
              "      <td>0.169593</td>\n",
              "      <td>0.087317</td>\n",
              "      <td>0.457434</td>\n",
              "      <td>0.257365</td>\n",
              "      <td>0.148473</td>\n",
              "      <td>0.174647</td>\n",
              "      <td>0.484438</td>\n",
              "      <td>0.409865</td>\n",
              "      <td>0.019955</td>\n",
              "      <td>2</td>\n",
              "    </tr>\n",
              "  </tbody>\n",
              "</table>\n",
              "</div>"
            ],
            "text/plain": [
              "   ID        f1        f2        f3  ...        f9       f10       f11  class\n",
              "0   0  0.119570  0.334175  0.118650  ...  0.561570  0.282460  0.061753      2\n",
              "1   1  0.801815  0.674407  0.771190  ...  0.498647  0.099978  0.368507      1\n",
              "2   2  0.341072  0.284200  0.332638  ...  0.576455  0.300376  0.097557      2\n",
              "3   3  0.097065  0.299344  0.098719  ...  0.660352  0.458084  0.029932      2\n",
              "4   4  0.170764  0.204442  0.169593  ...  0.484438  0.409865  0.019955      2\n",
              "\n",
              "[5 rows x 13 columns]"
            ]
          },
          "metadata": {
            "tags": []
          },
          "execution_count": 146
        }
      ]
    },
    {
      "cell_type": "code",
      "metadata": {
        "colab": {
          "base_uri": "https://localhost:8080/"
        },
        "id": "qDGIcGuiaYIs",
        "outputId": "b704b2a1-e6ef-4e86-b5e5-e87e71860d5b"
      },
      "source": [
        "test_df.shape"
      ],
      "execution_count": null,
      "outputs": [
        {
          "output_type": "execute_result",
          "data": {
            "text/plain": [
              "(231, 13)"
            ]
          },
          "metadata": {
            "tags": []
          },
          "execution_count": 7
        }
      ]
    },
    {
      "cell_type": "code",
      "metadata": {
        "colab": {
          "base_uri": "https://localhost:8080/",
          "height": 286
        },
        "id": "1e-i4V8kkWKH",
        "outputId": "72df9284-7427-4e99-d5db-d02d06c76a9e"
      },
      "source": [
        "plt.bar(['2', '1'], train_df['class'].value_counts())\n",
        "plt.show()"
      ],
      "execution_count": null,
      "outputs": [
        {
          "output_type": "display_data",
          "data": {
            "image/png": "[encoded data removed]",
            "text/plain": [
              "<Figure size 432x288 with 1 Axes>"
            ]
          },
          "metadata": {
            "tags": [],
            "needs_background": "light"
          }
        }
      ]
    },
    {
      "cell_type": "code",
      "metadata": {
        "id": "9g2lo-eFaa5m",
        "colab": {
          "base_uri": "https://localhost:8080/",
          "height": 613
        },
        "outputId": "e32ff48e-00c3-4eb9-e209-3ed7c8169d75"
      },
      "source": [
        "train_df_C = train_df.columns\n",
        "\n",
        "def relations(df, feature):\n",
        "  df_columns = df.columns              \n",
        "  feature_index = df.columns.get_loc(feature)\n",
        "\n",
        "  plt.figure(figsize=(10, 10))\n",
        "\n",
        "  for i in range(1, len(df_columns) - 1):\n",
        "    plt.subplot(4, 3, i)\n",
        "    plt.scatter(df[df['class'] == 1][feature], df[df['class'] == 1][df_columns[i]], c='orange', label='1')\n",
        "    plt.scatter(df[df['class'] == 2][feature], df[df['class'] == 2][df_columns[i]], c='brown', label='2')\n",
        "    plt.legend()\n",
        "\n",
        "relations(train_df, 'f1')\n"
      ],
      "execution_count": null,
      "outputs": [
        {
          "output_type": "display_data",
          "data": {
            "image/png": "[encoded data removed]",
            "text/plain": [
              "<Figure size 720x720 with 11 Axes>"
            ]
          },
          "metadata": {
            "tags": [],
            "needs_background": "light"
          }
        }
      ]
    },
    {
      "cell_type": "markdown",
      "metadata": {
        "id": "fU9dbY3Vi__d"
      },
      "source": [
        "So, we noticed form the graph above that f1, f3 and f4 are strongly correlated to each other, also they are loosy correlated to f7, f8. Then we decide to represent all the correlated features informations with just considering f1. we then defined a new feature that sums f1, f3, and f5 and draw this new feature aganist the class labels. From the graph it becomes fearly obvious that we can use 1.11 as threshold point.\n"
      ]
    },
    {
      "cell_type": "code",
      "metadata": {
        "id": "FIYcSLPKAddz",
        "colab": {
          "base_uri": "https://localhost:8080/",
          "height": 302
        },
        "outputId": "12a11d79-491e-485d-a70a-c3214c24862b"
      },
      "source": [
        "plt.scatter(train_df['f1'] + train_df['f2'] + train_df['f5'], train_df['class'])\n"
      ],
      "execution_count": null,
      "outputs": [
        {
          "output_type": "execute_result",
          "data": {
            "text/plain": [
              "<matplotlib.collections.PathCollection at 0x7fb9588efd68>"
            ]
          },
          "metadata": {
            "tags": []
          },
          "execution_count": 153
        },
        {
          "output_type": "display_data",
          "data": {
            "image/png": "[encoded data removed]",
            "text/plain": [
              "<Figure size 432x288 with 1 Axes>"
            ]
          },
          "metadata": {
            "tags": [],
            "needs_background": "light"
          }
        }
      ]
    },
    {
      "cell_type": "code",
      "metadata": {
        "id": "tHfy8bb8BVbW"
      },
      "source": [
        "# Ignore this cell, we will try to complete it in our spare time \n",
        "\n",
        "#####IGNORE FOR NOW###\n",
        "\n",
        "class model:\n",
        "  def __init__(self, df): # y = slope x - parameter \n",
        "    self.df = df\n",
        "\n",
        "    self.slope = None\n",
        "    self.parameter = None\n",
        "    \n",
        "    self.p1 = None\n",
        "    self.p2 = None\n",
        "    self.mp = (0.1, 0.1)\n",
        "\n",
        "  def configuration(self):\n",
        "    self.p1 = (self.df['f1'][len(self.df) // 4], self.df['f3'][len(self.df)  // 4])\n",
        "    print('self.p1: ', self.p1)\n",
        "    self.p2 = (self.df['f1'][len(self.df) * 3 // 4], self.df['f3'][len(self.df) * 3 // 4])\n",
        "    print('self.p2', self.p2)\n",
        "\n",
        "    self.calculate_slope()\n",
        "    self.calculate_parameter()\n",
        "    #self.calculate_slope_inverse()\n",
        "\n",
        "  def calculate_slope(self):\n",
        "    self.slope = (self.p2[1] - self.p1[1]) / (self.p2[0] - self.p1[0])\n",
        "    print('the slope is:', self.slope)\n",
        "\n",
        "  def calculate_slope_inverse(self):\n",
        "    self.slope = - 1 / self.slope\n",
        "    print('the slope is:', self.slope)\n",
        "\n",
        "  def calculate_parameter(self):\n",
        "      self.parameter = self.slope * self.mp[0] - self.mp[1]\n",
        "    \n",
        "\n",
        "  def get_output(self, x):\n",
        "    return self.slope * x - self.parameter"
      ],
      "execution_count": null,
      "outputs": []
    },
    {
      "cell_type": "markdown",
      "metadata": {
        "id": "1vJOop7wTjA0"
      },
      "source": [
        "\n",
        "Report: The method consisted in comparing the value of a feature compared to another feature through a threshold to be able to make our prediction. \n",
        "\n",
        "Accuracy = 82%,\n",
        "Number of correct samples = 187,\n",
        "Total number = 231\n"
      ]
    },
    {
      "cell_type": "code",
      "metadata": {
        "id": "OmzDwdHMoX-m"
      },
      "source": [
        ""
      ],
      "execution_count": null,
      "outputs": []
    }
  ]
}